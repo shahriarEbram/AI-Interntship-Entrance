{
 "cells": [
  {
   "cell_type": "code",
   "execution_count": 39,
   "id": "2e61b93c",
   "metadata": {},
   "outputs": [],
   "source": [
    "import pandas as pd\n",
    "import numpy as np\n",
    "from sklearn import preprocessing\n",
    "from sklearn.model_selection import train_test_split\n",
    "from sklearn.linear_model import LogisticRegression\n",
    "from sklearn.feature_extraction.text import CountVectorizer\n",
    "from sklearn.metrics import confusion_matrix,classification_report,zero_one_loss,accuracy_score\n",
    "import matplotlib.pyplot as plt\n",
    "import re"
   ]
  },
  {
   "cell_type": "code",
   "execution_count": 41,
   "id": "0f7dd8ba",
   "metadata": {},
   "outputs": [
    {
     "data": {
      "text/html": [
       "<div>\n",
       "<style scoped>\n",
       "    .dataframe tbody tr th:only-of-type {\n",
       "        vertical-align: middle;\n",
       "    }\n",
       "\n",
       "    .dataframe tbody tr th {\n",
       "        vertical-align: top;\n",
       "    }\n",
       "\n",
       "    .dataframe thead th {\n",
       "        text-align: right;\n",
       "    }\n",
       "</style>\n",
       "<table border=\"1\" class=\"dataframe\">\n",
       "  <thead>\n",
       "    <tr style=\"text-align: right;\">\n",
       "      <th></th>\n",
       "      <th>question</th>\n",
       "      <th>label</th>\n",
       "    </tr>\n",
       "  </thead>\n",
       "  <tbody>\n",
       "    <tr>\n",
       "      <th>0</th>\n",
       "      <td>طارند بالا ، چه چیزی  است؟</td>\n",
       "      <td>1</td>\n",
       "    </tr>\n",
       "    <tr>\n",
       "      <th>1</th>\n",
       "      <td>طارند بالا ، روستایی از توابع کجا است؟</td>\n",
       "      <td>1</td>\n",
       "    </tr>\n",
       "    <tr>\n",
       "      <th>2</th>\n",
       "      <td>طارند بالا ، روستایی از توابع کجا در استان ته...</td>\n",
       "      <td>1</td>\n",
       "    </tr>\n",
       "    <tr>\n",
       "      <th>3</th>\n",
       "      <td>طارند بالا ، روستایی از توابع بخش جلیل آباد ش...</td>\n",
       "      <td>1</td>\n",
       "    </tr>\n",
       "    <tr>\n",
       "      <th>4</th>\n",
       "      <td>کجا روستایی در استان تهران ایران است</td>\n",
       "      <td>1</td>\n",
       "    </tr>\n",
       "    <tr>\n",
       "      <th>5</th>\n",
       "      <td>طارند بالا ، روستایی از توابع بخش جلیل آباد  ...</td>\n",
       "      <td>1</td>\n",
       "    </tr>\n",
       "    <tr>\n",
       "      <th>6</th>\n",
       "      <td>طارند بالا ، روستایی از توابع بخش جلیل آباد ک...</td>\n",
       "      <td>1</td>\n",
       "    </tr>\n",
       "    <tr>\n",
       "      <th>7</th>\n",
       "      <td>آآ قرمز نام چه چیزی است؟</td>\n",
       "      <td>1</td>\n",
       "    </tr>\n",
       "    <tr>\n",
       "      <th>8</th>\n",
       "      <td>آآ قرمز نام یک گونه از چه چیزی است؟</td>\n",
       "      <td>1</td>\n",
       "    </tr>\n",
       "    <tr>\n",
       "      <th>9</th>\n",
       "      <td>چه چیزی نام یک گونه از سرده آآ است؟</td>\n",
       "      <td>1</td>\n",
       "    </tr>\n",
       "  </tbody>\n",
       "</table>\n",
       "</div>"
      ],
      "text/plain": [
       "                                            question  label\n",
       "0                         طارند بالا ، چه چیزی  است؟      1\n",
       "1             طارند بالا ، روستایی از توابع کجا است؟      1\n",
       "2   طارند بالا ، روستایی از توابع کجا در استان ته...      1\n",
       "3   طارند بالا ، روستایی از توابع بخش جلیل آباد ش...      1\n",
       "4               کجا روستایی در استان تهران ایران است      1\n",
       "5   طارند بالا ، روستایی از توابع بخش جلیل آباد  ...      1\n",
       "6   طارند بالا ، روستایی از توابع بخش جلیل آباد ک...      1\n",
       "7                           آآ قرمز نام چه چیزی است؟      1\n",
       "8                آآ قرمز نام یک گونه از چه چیزی است؟      1\n",
       "9                چه چیزی نام یک گونه از سرده آآ است؟      1"
      ]
     },
     "execution_count": 41,
     "metadata": {},
     "output_type": "execute_result"
    }
   ],
   "source": [
    "df = pd.read_csv('C:\\\\Users\\\\pars rayaneh\\\\Desktop\\\\ai-entrance-exam-main\\\\machine-learning\\\\data.csv')\n",
    "df.head(10)"
   ]
  },
  {
   "cell_type": "markdown",
   "id": "c7850bc0",
   "metadata": {},
   "source": [
    "## Data Preproccessing and Cleaning"
   ]
  },
  {
   "cell_type": "code",
   "execution_count": 42,
   "id": "b86b32f3",
   "metadata": {},
   "outputs": [
    {
     "data": {
      "text/html": [
       "<div>\n",
       "<style scoped>\n",
       "    .dataframe tbody tr th:only-of-type {\n",
       "        vertical-align: middle;\n",
       "    }\n",
       "\n",
       "    .dataframe tbody tr th {\n",
       "        vertical-align: top;\n",
       "    }\n",
       "\n",
       "    .dataframe thead th {\n",
       "        text-align: right;\n",
       "    }\n",
       "</style>\n",
       "<table border=\"1\" class=\"dataframe\">\n",
       "  <thead>\n",
       "    <tr style=\"text-align: right;\">\n",
       "      <th></th>\n",
       "      <th>question</th>\n",
       "      <th>label</th>\n",
       "    </tr>\n",
       "  </thead>\n",
       "  <tbody>\n",
       "    <tr>\n",
       "      <th>365</th>\n",
       "      <td>طارند بالا ، روستایی از توابع بخش چه کسی شهرست...</td>\n",
       "      <td>-1</td>\n",
       "    </tr>\n",
       "    <tr>\n",
       "      <th>369</th>\n",
       "      <td>ا ژ و یکی از قطارهای شرکت آلستوم می‌باشد که قر...</td>\n",
       "      <td>-1</td>\n",
       "    </tr>\n",
       "    <tr>\n",
       "      <th>373</th>\n",
       "      <td>حاج امیرکندی روستایی است که در کجا ، شهرستان پ...</td>\n",
       "      <td>-1</td>\n",
       "    </tr>\n",
       "    <tr>\n",
       "      <th>374</th>\n",
       "      <td>حاج امیرکندی روستایی است که در استان اردبیل ، ...</td>\n",
       "      <td>-1</td>\n",
       "    </tr>\n",
       "    <tr>\n",
       "      <th>375</th>\n",
       "      <td>حاج امیرکندی روستایی است که در استان اردبیل ، ...</td>\n",
       "      <td>-1</td>\n",
       "    </tr>\n",
       "    <tr>\n",
       "      <th>...</th>\n",
       "      <td>...</td>\n",
       "      <td>...</td>\n",
       "    </tr>\n",
       "    <tr>\n",
       "      <th>2232</th>\n",
       "      <td>رئیس هیات موسس کجا دانشگاه آزاد اسلامی ریاست ...</td>\n",
       "      <td>-1</td>\n",
       "    </tr>\n",
       "    <tr>\n",
       "      <th>2233</th>\n",
       "      <td>رئیس هیات موسس و امناء کجا را تسلیت گفت : دان...</td>\n",
       "      <td>-1</td>\n",
       "    </tr>\n",
       "    <tr>\n",
       "      <th>2234</th>\n",
       "      <td>رئیس چه کسی و امناء دانشگاه آزاد اسلامی با صد...</td>\n",
       "      <td>-1</td>\n",
       "    </tr>\n",
       "    <tr>\n",
       "      <th>2235</th>\n",
       "      <td>رئیس هیات موسس کجا دانشگاه آزاد اسلامی با صدو...</td>\n",
       "      <td>-1</td>\n",
       "    </tr>\n",
       "    <tr>\n",
       "      <th>2236</th>\n",
       "      <td>رئیس هیات موسس و امناء کجا با صدور پیامی درگذ...</td>\n",
       "      <td>-1</td>\n",
       "    </tr>\n",
       "  </tbody>\n",
       "</table>\n",
       "<p>790 rows × 2 columns</p>\n",
       "</div>"
      ],
      "text/plain": [
       "                                               question  label\n",
       "365   طارند بالا ، روستایی از توابع بخش چه کسی شهرست...     -1\n",
       "369   ا ژ و یکی از قطارهای شرکت آلستوم می‌باشد که قر...     -1\n",
       "373   حاج امیرکندی روستایی است که در کجا ، شهرستان پ...     -1\n",
       "374   حاج امیرکندی روستایی است که در استان اردبیل ، ...     -1\n",
       "375   حاج امیرکندی روستایی است که در استان اردبیل ، ...     -1\n",
       "...                                                 ...    ...\n",
       "2232   رئیس هیات موسس کجا دانشگاه آزاد اسلامی ریاست ...     -1\n",
       "2233   رئیس هیات موسس و امناء کجا را تسلیت گفت : دان...     -1\n",
       "2234   رئیس چه کسی و امناء دانشگاه آزاد اسلامی با صد...     -1\n",
       "2235   رئیس هیات موسس کجا دانشگاه آزاد اسلامی با صدو...     -1\n",
       "2236   رئیس هیات موسس و امناء کجا با صدور پیامی درگذ...     -1\n",
       "\n",
       "[790 rows x 2 columns]"
      ]
     },
     "execution_count": 42,
     "metadata": {},
     "output_type": "execute_result"
    }
   ],
   "source": [
    "df[df['label']==-1]"
   ]
  },
  {
   "cell_type": "code",
   "execution_count": 43,
   "id": "af52cd38",
   "metadata": {},
   "outputs": [
    {
     "data": {
      "text/plain": [
       "(2651, 2)"
      ]
     },
     "execution_count": 43,
     "metadata": {},
     "output_type": "execute_result"
    }
   ],
   "source": [
    "df.shape"
   ]
  },
  {
   "cell_type": "code",
   "execution_count": 44,
   "id": "4baef5ba",
   "metadata": {},
   "outputs": [
    {
     "name": "stdout",
     "output_type": "stream",
     "text": [
      "<class 'pandas.core.frame.DataFrame'>\n",
      "RangeIndex: 2651 entries, 0 to 2650\n",
      "Data columns (total 2 columns):\n",
      " #   Column    Non-Null Count  Dtype \n",
      "---  ------    --------------  ----- \n",
      " 0   question  2651 non-null   object\n",
      " 1   label     2651 non-null   int64 \n",
      "dtypes: int64(1), object(1)\n",
      "memory usage: 41.5+ KB\n"
     ]
    }
   ],
   "source": [
    "df.info()"
   ]
  },
  {
   "cell_type": "code",
   "execution_count": 45,
   "id": "5906a48d",
   "metadata": {},
   "outputs": [
    {
     "data": {
      "text/plain": [
       "question    0\n",
       "label       0\n",
       "dtype: int64"
      ]
     },
     "execution_count": 45,
     "metadata": {},
     "output_type": "execute_result"
    }
   ],
   "source": [
    "df.isnull().sum()"
   ]
  },
  {
   "cell_type": "code",
   "execution_count": 46,
   "id": "dd478359",
   "metadata": {},
   "outputs": [
    {
     "data": {
      "text/plain": [
       "(2498, 2)"
      ]
     },
     "execution_count": 46,
     "metadata": {},
     "output_type": "execute_result"
    }
   ],
   "source": [
    "df = df[df.question.duplicated() == False]\n",
    "df.shape"
   ]
  },
  {
   "cell_type": "code",
   "execution_count": 47,
   "id": "4a79bcc3",
   "metadata": {},
   "outputs": [
    {
     "data": {
      "text/plain": [
       " 1    1740\n",
       "-1     758\n",
       "Name: label, dtype: int64"
      ]
     },
     "execution_count": 47,
     "metadata": {},
     "output_type": "execute_result"
    }
   ],
   "source": [
    "df['label'].value_counts()"
   ]
  },
  {
   "cell_type": "markdown",
   "id": "caabba33",
   "metadata": {},
   "source": [
    "## Train Classifer"
   ]
  },
  {
   "cell_type": "code",
   "execution_count": 48,
   "id": "21b80b0b",
   "metadata": {},
   "outputs": [],
   "source": [
    "X = np.asarray(df['question'])\n",
    "y = np.asarray(df['label'])\n",
    "\n",
    "sentence_train, sentence_test, y_train, y_test = train_test_split(X, y, test_size=0.2, random_state=4)\n",
    "\n",
    "#print('Train Set:', sentence_train.shape)\n",
    "#print('Test Set:', sentence_test.shape)"
   ]
  },
  {
   "cell_type": "code",
   "execution_count": 49,
   "id": "493c6fc9",
   "metadata": {},
   "outputs": [
    {
     "data": {
      "text/plain": [
       "<1998x1540 sparse matrix of type '<class 'numpy.int64'>'\n",
       "\twith 24860 stored elements in Compressed Sparse Row format>"
      ]
     },
     "execution_count": 49,
     "metadata": {},
     "output_type": "execute_result"
    }
   ],
   "source": [
    "vectorizer = CountVectorizer()\n",
    "vectorizer.fit(sentence_train)\n",
    "\n",
    "\n",
    "X_train = vectorizer.transform(sentence_train)\n",
    "X_test = vectorizer.transform(sentence_test)\n",
    "\n",
    "X_train"
   ]
  },
  {
   "cell_type": "code",
   "execution_count": 50,
   "id": "862781db",
   "metadata": {},
   "outputs": [],
   "source": [
    "LR = LogisticRegression()\n",
    "LR.fit(X_train, y_train)\n",
    "yhat = LR.predict(X_test)"
   ]
  },
  {
   "cell_type": "code",
   "execution_count": 53,
   "id": "2f42c6e5",
   "metadata": {},
   "outputs": [
    {
     "name": "stdout",
     "output_type": "stream",
     "text": [
      "Enter Your Text:\n",
      "جانشین فرمانده سپاه چه چیزی گفت؟\n",
      "Model Predection is: [1]\n"
     ]
    }
   ],
   "source": [
    "textInput = input(\"Enter Your Text:\\n\")\n",
    "a = vectorizer.transform([textInput])\n",
    "print(\"Model Predection is:\",LR.predict(a))"
   ]
  },
  {
   "cell_type": "markdown",
   "id": "48b855e8",
   "metadata": {},
   "source": [
    "### Evaluate the model"
   ]
  },
  {
   "cell_type": "code",
   "execution_count": 54,
   "id": "72d81615",
   "metadata": {},
   "outputs": [
    {
     "name": "stdout",
     "output_type": "stream",
     "text": [
      "Accuracy is:  0.77\n",
      "Zero One Loss is:  0.23\n"
     ]
    }
   ],
   "source": [
    "print(\"Accuracy is: \", round(accuracy_score(y_test, yhat),2))\n",
    "print(\"Zero One Loss is: \", round(zero_one_loss(y_test, yhat),2))"
   ]
  },
  {
   "cell_type": "code",
   "execution_count": 57,
   "id": "6c71b945",
   "metadata": {},
   "outputs": [
    {
     "data": {
      "image/png": "[encoded data removed]",
      "text/plain": [
       "<Figure size 360x360 with 1 Axes>"
      ]
     },
     "metadata": {
      "needs_background": "light"
     },
     "output_type": "display_data"
    }
   ],
   "source": [
    "cm = confusion_matrix(y_test,yhat)\n",
    "\n",
    "fig, ax = plt.subplots(figsize=(5, 5))\n",
    "ax.imshow(cm)\n",
    "ax.grid(False)\n",
    "ax.xaxis.set(ticks=(0, 1), ticklabels=('Predicted 0s', 'Predicted 1s'))\n",
    "ax.yaxis.set(ticks=(0, 1), ticklabels=('Actual 0s', 'Actual 1s'))\n",
    "ax.set_ylim(1.5, -0.5)\n",
    "for i in range(2):\n",
    "    for j in range(2):\n",
    "        ax.text(j, i, cm[i, j], ha='center', va='center', color='red')\n",
    "plt.show()"
   ]
  },
  {
   "cell_type": "code",
   "execution_count": 58,
   "id": "3f1b698f",
   "metadata": {},
   "outputs": [
    {
     "name": "stdout",
     "output_type": "stream",
     "text": [
      "              precision    recall  f1-score   support\n",
      "\n",
      "          -1       0.66      0.57      0.61       157\n",
      "           1       0.81      0.87      0.84       343\n",
      "\n",
      "    accuracy                           0.77       500\n",
      "   macro avg       0.74      0.72      0.72       500\n",
      "weighted avg       0.77      0.77      0.77       500\n",
      "\n"
     ]
    }
   ],
   "source": [
    "print(classification_report(y_test,yhat))"
   ]
  }
 ],
 "metadata": {
  "kernelspec": {
   "display_name": "Python 3 (ipykernel)",
   "language": "python",
   "name": "python3"
  },
  "language_info": {
   "codemirror_mode": {
    "name": "ipython",
    "version": 3
   },
   "file_extension": ".py",
   "mimetype": "text/x-python",
   "name": "python",
   "nbconvert_exporter": "python",
   "pygments_lexer": "ipython3",
   "version": "3.10.1"
  }
 },
 "nbformat": 4,
 "nbformat_minor": 5
}
