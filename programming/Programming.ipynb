{
 "cells": [
  {
   "cell_type": "code",
   "execution_count": 238,
   "id": "0632f089",
   "metadata": {},
   "outputs": [],
   "source": [
    "import re\n",
    "#pip install hazm\n",
    "import hazm\n",
    "from hazm import *\n",
    "#pip install num2fawords\n",
    "from num2fawords import words as wd, ordinal_words as ow"
   ]
  },
  {
   "cell_type": "code",
   "execution_count": 239,
   "id": "b1dc03f7",
   "metadata": {
    "scrolled": true
   },
   "outputs": [
    {
     "name": "stdout",
     "output_type": "stream",
     "text": [
      "این یک فایل متنی نمونه است که برای مسئله برنامه نویسی تولید شده است و هیچ کارکرد دیگری ندارد.\n",
      "طبیعتا کدی که برای پردازش این فایل می نویسید نباید جمله بندی فایل را بهم بریزد و تنها مواردی که ذکر شده است را باید تغییر بدهد.\n",
      "از این موارد می توانیم به حَذْفْ اِعْرآب وَ کآراکتِرْ های غيرِ مُجازْ اِشاره کُنیمْ، البته نباید فراموش کرد که . و ، هم جزو کاراکتر های غیر مجاز محسوب می شوند.\n",
      "از سایر موارد میتوان به تبدیل اعدادی که با رقم نوشته شده اند به حروف یاد کرد، به عنوان مثال عدد ۱۲۳۰۰۰ باید به صورت صد و بیست و سه هزار نوشته شود هرچند که نیازی نیست عدد دو میلیون و نود و سه هزار و پانصد و سی و یک بصورت ۲۰۹۰۵۳۱ نوشته شود.\n",
      "در نهایت موراد موجود از كاراكتر هاي عربي که احتمالا کم ةم نیستند باید به معدل هاي فارسي آنها که در صورت مسئله بة آن اشارة شدة تبديل شوند.\n",
      "\n"
     ]
    }
   ],
   "source": [
    "f = open(\"input.txt\", \"r\",encoding=\"utf8\")\n",
    "text = f.read()\n",
    "print(text)"
   ]
  },
  {
   "cell_type": "markdown",
   "id": "456a4133",
   "metadata": {},
   "source": [
    "### Task #1\n",
    "جملاتی که بیشتر از ۵۰ و کمتر از ۱۰ کلمه دارند را حذف کند."
   ]
  },
  {
   "cell_type": "code",
   "execution_count": 240,
   "id": "7f2f7be1",
   "metadata": {},
   "outputs": [
    {
     "name": "stdout",
     "output_type": "stream",
     "text": [
      "این یک فایل متنی نمونه است که برای مسئله برنامه نویسی تولید شده است و هیچ کارکرد دیگری ندارد \n",
      "طبیعتا کدی که برای پردازش این فایل می نویسید نباید جمله بندی فایل را بهم بریزد و تنها مواردی که ذکر شده است را باید تغییر بدهد \n",
      "از این موارد می توانیم به حَذْفْ اِعْرآب وَ کآراکتِرْ های غيرِ مُجازْ اِشاره کُنیمْ، البته نباید فراموش کرد که   و ، هم جزو کاراکتر های غیر مجاز محسوب می شوند \n",
      "در نهایت موراد موجود از كاراكتر هاي عربي که احتمالا کم ةم نیستند باید به معدل هاي فارسي آنها که در صورت مسئله بة آن اشارة شدة تبديل شوند\n"
     ]
    }
   ],
   "source": [
    "# split paragraph into sentences\n",
    "sentences = text.split(\".\")\n",
    "a=[]\n",
    "# split each sentence into words and remove sentence with more than 50Words AND less than 10Words\n",
    "for sentence in sentences:\n",
    "    tokenized_sentences = sentence.split(\" \")\n",
    "    if(len(tokenized_sentences) > 1 and len(tokenized_sentences) < 50):\n",
    "        #a.append((len(tokenized_sentences),(sentence)))\n",
    "        a.append((sentence))\n",
    "        \n",
    "#convert List to String\n",
    "text = ' '.join([str(elem) for elem in a])\n",
    "\n",
    "print(text)"
   ]
  },
  {
   "cell_type": "markdown",
   "id": "67dfc8d5",
   "metadata": {},
   "source": [
    "### Task #2\n",
    "اعداد با رقم را به حروف تبدیل کند. به عنوان مثال ۱۲ را به \"دوازده\" تبدیل کند."
   ]
  },
  {
   "cell_type": "markdown",
   "id": "7df1a358",
   "metadata": {},
   "source": [
    "### All number in input text have been deleted in task #1, so I hardcode this cell"
   ]
  },
  {
   "cell_type": "code",
   "execution_count": 242,
   "id": "9232ba8d",
   "metadata": {},
   "outputs": [
    {
     "name": "stdout",
     "output_type": "stream",
     "text": [
      "یکصد و بیست و سه\n"
     ]
    }
   ],
   "source": [
    "print(wd(123))"
   ]
  },
  {
   "cell_type": "markdown",
   "id": "255c432d",
   "metadata": {},
   "source": [
    "### Task #3\n",
    "هر کاراکتر به غیر از کاراکترها ی ۱۲۳۴۵۶۷۸۹۰ضصثقفغعهخحجچشسیبلاتنمکگظطزرذدپو را از متن حذف کند."
   ]
  },
  {
   "cell_type": "code",
   "execution_count": 243,
   "id": "438208f0",
   "metadata": {},
   "outputs": [
    {
     "name": "stdout",
     "output_type": "stream",
     "text": [
      "این یک فایل متنی نمونه است که برای مس له برنامه نویسی تولید شده است و هیچ کارکرد دیگری ندارد  طبیعتا کدی که برای پردازش این فایل می نویسید نباید جمله بندی فایل را بهم بریزد و تنها مواردی که ذکر شده است را باید تغییر بدهد  از این موارد می توانیم به حَذْفْ اِعْر ب وَ ک راکتِرْ های غيرِ مُجازْ اِشاره کُنیمْ  البته نباید فراموش کرد که   و   هم جزو کاراکتر های غیر مجاز محسوب می شوند  در نهایت موراد موجود از كاراكتر هاي عربي که احتمالا کم ةم نیستند باید به معدل هاي فارسي  نها که در صورت مس له بة  ن اشارة شدة تبديل شوند\n"
     ]
    }
   ],
   "source": [
    "text = re.sub(r\"[^ا-ی 0-9]+\",\" \",text)\n",
    "print(text)"
   ]
  },
  {
   "cell_type": "markdown",
   "id": "a199d99c",
   "metadata": {},
   "source": [
    "### Task #4\n",
    "تنها با استفاده از کتابخانه های اصلی پابتون حروف عربی ك ،ي ، ة را به ک ،ی ، ه تبدیل کند."
   ]
  },
  {
   "cell_type": "code",
   "execution_count": 244,
   "id": "6b729cf8",
   "metadata": {},
   "outputs": [
    {
     "name": "stdout",
     "output_type": "stream",
     "text": [
      "این یک فایل متنی نمونه است که برای مس له برنامه نویسی تولید شده است و هیچ کارکرد دیگری ندارد  طبیعتا کدی که برای پردازش این فایل می نویسید نباید جمله بندی فایل را بهم بریزد و تنها مواردی که ذکر شده است را باید تغییر بدهد  از این موارد می توانیم به حَذْفْ اِعْر ب وَ ک راکتِرْ های غیرِ مُجازْ اِشاره کُنیمْ  البته نباید فراموش کرد که   و   هم جزو کاراکتر های غیر مجاز محسوب می شوند  در نهایت موراد موجود از کاراکتر های عربی که احتمالا کم هم نیستند باید به معدل های فارسی  نها که در صورت مس له به  ن اشاره شده تبدیل شوند\n"
     ]
    }
   ],
   "source": [
    "text = text.replace(\"ك\", \"ک\")\n",
    "text = text.replace(\"ي\", \"ی\")\n",
    "text = text.replace(\"ة\", \"ه\")\n",
    "\n",
    "#if I allowed to use regex:\n",
    "# pattern1 = re.sub(r\"ك\",\"ک\", text)\n",
    "\n",
    "print(text)"
   ]
  },
  {
   "cell_type": "markdown",
   "id": "f074eaa9",
   "metadata": {},
   "source": [
    "### Task #5\n",
    "مطابق با نگارش فارسی نیم فاصله ها را اصلاح کند."
   ]
  },
  {
   "cell_type": "code",
   "execution_count": 245,
   "id": "4573cfac",
   "metadata": {},
   "outputs": [
    {
     "name": "stdout",
     "output_type": "stream",
     "text": [
      "این یک فایل متنی نمونه است که برای مس له برنامه نویسی تولید شده است و هیچ کارکرد دیگری ندارد  طبیعتا کدی که برای پردازش این فایل می نویسید نباید جمله بندی فایل را بهم بریزد و تنها مواردی که ذکر شده است را باید تغییر بدهد  از این موارد می توانیم به حَذْفْ اِعْر ب وَ ک راکتِرْ های غیرِ مُجازْ اِشاره کُنیمْ  البته نباید فراموش کرد که   و   هم جزو کاراکتر های غیر مجاز محسوب می شوند  در نهایت موراد موجود از کاراکتر های عربی که احتمالا کم هم نیستند باید به معدل های فارسی  نها که در صورت مس له به  ن اشاره شده تبدیل شوند\n"
     ]
    }
   ],
   "source": [
    "normalizer = Normalizer()\n",
    "normalizer.normalize (text)\n",
    "print(text)"
   ]
  },
  {
   "cell_type": "markdown",
   "id": "658554b1",
   "metadata": {},
   "source": [
    "## Save Text as a txt File"
   ]
  },
  {
   "cell_type": "code",
   "execution_count": 246,
   "id": "7a2de304",
   "metadata": {},
   "outputs": [],
   "source": [
    "with open('output.txt', 'w',encoding=\"utf8\") as f:\n",
    "    f.write(text)\n",
    "f.close()"
   ]
  }
 ],
 "metadata": {
  "kernelspec": {
   "display_name": "Python 3 (ipykernel)",
   "language": "python",
   "name": "python3"
  },
  "language_info": {
   "codemirror_mode": {
    "name": "ipython",
    "version": 3
   },
   "file_extension": ".py",
   "mimetype": "text/x-python",
   "name": "python",
   "nbconvert_exporter": "python",
   "pygments_lexer": "ipython3",
   "version": "3.10.1"
  }
 },
 "nbformat": 4,
 "nbformat_minor": 5
}
